{
 "cells": [
  {
   "cell_type": "code",
   "execution_count": 1,
   "metadata": {},
   "outputs": [
    {
     "name": "stdout",
     "output_type": "stream",
     "text": [
      "Enter Your Name : umair\n",
      "reverse of your name is riamu\n"
     ]
    }
   ],
   "source": [
    "# reverse\n",
    "name = input(\"Enter Your Name : \")\n",
    "reverse = name[::-1]   # [start:stop:step]\n",
    "print(f\"reverse of your name is {reverse}\")"
   ]
  },
  {
   "cell_type": "code",
   "execution_count": 3,
   "metadata": {},
   "outputs": [
    {
     "name": "stdout",
     "output_type": "stream",
     "text": [
      " enter your seperated name and character : umair, a\n",
      "length of your name 5\n",
      "character count : 1\n"
     ]
    }
   ],
   "source": [
    "# count name variable & remove space\n",
    "name,char = input(\" enter your seperated name and character : \").split(\",\")\n",
    "print(f\"length of your name {len(name)}\")\n",
    "print(f\"character count : {name.strip().lower().count(char.strip().lower())}\")"
   ]
  },
  {
   "cell_type": "code",
   "execution_count": null,
   "metadata": {},
   "outputs": [],
   "source": [
    "# Replace Method\n",
    "string = \"he is good in python and he is expert to create logic\"\n",
    "print(string.replace(\"he\", \"she\"))"
   ]
  },
  {
   "cell_type": "code",
   "execution_count": 6,
   "metadata": {},
   "outputs": [
    {
     "name": "stdout",
     "output_type": "stream",
     "text": [
      "54\n"
     ]
    }
   ],
   "source": [
    "# find Method\n",
    "string = \"He is good in python and he is expert to create logic is is is\"\n",
    "is_pos1 = string.find(\"is\")\n",
    "is_pos2 = string.find(\"is\", is_pos1 + 1)\n",
    "is_pos3 = string.find(\"is\", is_pos2 + 1)\n",
    "print(is_pos3)"
   ]
  },
  {
   "cell_type": "code",
   "execution_count": 4,
   "metadata": {},
   "outputs": [
    {
     "name": "stdout",
     "output_type": "stream",
     "text": [
      "Enter Your Name : umair\n",
      "**umair**\n"
     ]
    }
   ],
   "source": [
    "# center Method\n",
    "name = input(\"Enter Your Name : \")\n",
    "print(name.center(len(name)+4,\"*\"))"
   ]
  },
  {
   "cell_type": "code",
   "execution_count": 15,
   "metadata": {},
   "outputs": [],
   "source": [
    "# Pass Statement\n",
    "a = 18\n",
    "if a >= 18:\n",
    "     pass# mtlb k ap yaha kuxh nhi likhna chahty tow python ma pass likh dyn o.w error dyga"
   ]
  },
  {
   "cell_type": "code",
   "execution_count": null,
   "metadata": {},
   "outputs": [],
   "source": [
    "# Exercise Number gusseing game\n",
    "win_no = 5\n",
    "guess_no = input(\"Enter a number whose b/w 1 to 10 : \")\n",
    "guess_no = int(guess_no)\n",
    "if (win_no == guess_no):\n",
    "    print(\"You Win\")\n",
    "else:\n",
    "    if (guess_no > win_no):\n",
    "        print(\"To High\")\n",
    "    else:\n",
    "        print(\"To Low\")\n",
    "    "
   ]
  },
  {
   "cell_type": "code",
   "execution_count": null,
   "metadata": {},
   "outputs": [],
   "source": [
    "# Excercise\n",
    "name = input(\"Enter Your Name : \")\n",
    "age = int(input(\"Enter Your Age : \"))\n",
    "if (name[0] == 'z' or name[0]) == 'Z' and age >= 10:\n",
    "    print(\"You Watch Coco\")\n",
    "else:\n",
    "    print(\"Sorry\")"
   ]
  },
  {
   "cell_type": "code",
   "execution_count": null,
   "metadata": {},
   "outputs": [],
   "source": [
    "# in keyword\n",
    "a = input(\"Enter a Name : \")\n",
    "check = input(\"put letter for check the name : \")\n",
    "if check in a:\n",
    "    print(check,\"is present\")\n",
    "else:\n",
    "    print(check,\" is not present\")"
   ]
  },
  {
   "cell_type": "code",
   "execution_count": null,
   "metadata": {},
   "outputs": [],
   "source": [
    "#check empty or not\n",
    "com = input(\"Enter your comment : \")\n",
    "if com:\n",
    "    print(f\"your name is {com}\")\n",
    "else:\n",
    "    print(\"you didn't type any thing\")"
   ]
  },
  {
   "cell_type": "code",
   "execution_count": null,
   "metadata": {},
   "outputs": [],
   "source": [
    "# Excersice sum of natural numbers\n",
    "n = int(input(\"enter a number which you sum from 1 series of natural number : \"))\n",
    "total = 0\n",
    "i = 1\n",
    "while i <= n:\n",
    "    total += i\n",
    "    i += 1\n",
    "print(total)"
   ]
  },
  {
   "cell_type": "code",
   "execution_count": null,
   "metadata": {},
   "outputs": [],
   "source": [
    "# problem\n",
    "n = input(\"Enter a number : \")\n",
    "total = 0\n",
    "i = 1\n",
    "while i < len(n):\n",
    "    total += int(n[i])\n",
    "    i += 1\n",
    "print(total, f\"is the sum of {n}\")"
   ]
  },
  {
   "cell_type": "code",
   "execution_count": null,
   "metadata": {},
   "outputs": [],
   "source": [
    "# Excersice\n",
    "n = input(\"enter your name : \")\n",
    "i = 0\n",
    "while i < len(n):\n",
    "    print(n[i] ,':',n.count(n[i])) \n",
    "    i += 1"
   ]
  },
  {
   "cell_type": "code",
   "execution_count": null,
   "metadata": {},
   "outputs": [],
   "source": [
    "# break and continue keyword\n",
    "# break is use for loop breaking\n",
    "# continue is use for except the number which you have not \n",
    "for i in range(1,11):\n",
    "    if i == 5:\n",
    "        break\n",
    "    print(i)\n",
    "for i in range (1,11):\n",
    "    if i == 5:\n",
    "        continue\n",
    "    print(i)"
   ]
  },
  {
   "cell_type": "code",
   "execution_count": null,
   "metadata": {},
   "outputs": [],
   "source": [
    "# Modify Exercise Number gusseing game\n",
    "import random\n",
    "win_no = random.randint(1,100)\n",
    "guess_no = int(input(\"Enter a number whose b/w 1 to 100 : \"))\n",
    "guess = 1\n",
    "game_over = False\n",
    "while not game_over:\n",
    "    if (win_no == guess_no):\n",
    "        print(f\"You Win, and you guessed in {guess} times\")\n",
    "        game_over = True\n",
    "    else:\n",
    "        if (guess_no > win_no):\n",
    "            print(\"To High\")\n",
    "        else:\n",
    "            print(\"To Low\")\n",
    "        guess += 1                # Dry principle : don't repeat code\n",
    "        guess_no = int(input(\"guess again : \"))"
   ]
  },
  {
   "cell_type": "code",
   "execution_count": null,
   "metadata": {},
   "outputs": [],
   "source": [
    "# for loop and string\n",
    "for i in \"Zain UL Abideen\":\n",
    "    print(i)"
   ]
  },
  {
   "cell_type": "code",
   "execution_count": null,
   "metadata": {},
   "outputs": [],
   "source": [
    "# functions\n",
    "def add_two(x,y):\n",
    "    return x+y\n",
    "\n",
    "a = int(input(\"enter a first number : \"))\n",
    "b = int(input(\"enter a second number : \"))\n",
    "total = add_two(a,b)\n",
    "print(total)"
   ]
  },
  {
   "cell_type": "code",
   "execution_count": null,
   "metadata": {},
   "outputs": [],
   "source": [
    "def add_string(x,y):\n",
    "    return x+y\n",
    "\n",
    "first_name = input(\"enter a first name : \")\n",
    "last_name = input(\"enter a last name : \")\n",
    "print(\"Name is \" + add_string(first_name,last_name))"
   ]
  },
  {
   "cell_type": "code",
   "execution_count": null,
   "metadata": {},
   "outputs": [],
   "source": [
    "# return vs print\n",
    "def add_three(a,b,c):\n",
    "    print(a+b+c) # return ki jaga hum print likh sakhty hain\n",
    "                 # magar real life example ma return use hota hai\n",
    "add_three(5,5,5) # Q k kahi jagao p kuxh print nhi krwana hota."
   ]
  },
  {
   "cell_type": "code",
   "execution_count": null,
   "metadata": {},
   "outputs": [],
   "source": [
    "# practice funtions\n",
    "def name(name):\n",
    "    return name[-1]\n",
    "\n",
    "print(name(\"zain\"))\n"
   ]
  },
  {
   "cell_type": "code",
   "execution_count": null,
   "metadata": {},
   "outputs": [],
   "source": [
    "# excrsice\n",
    "def greater_num(num1,num2):\n",
    "    if num1 > num2:\n",
    "        return num1\n",
    "    return num2\n",
    "\n",
    "a = int(input(\"enter a first number : \"))\n",
    "b = int(input(\"enter a second number : \"))\n",
    "print(greater_num(a,b))"
   ]
  },
  {
   "cell_type": "code",
   "execution_count": null,
   "metadata": {},
   "outputs": [],
   "source": [
    "def greater_num(num1,num2,num3):\n",
    "    if num1 > num2 and num1 > num3:\n",
    "        return num1\n",
    "    elif num2 > num1 and num2 > num3:\n",
    "        return num2\n",
    "    else:\n",
    "        return num3\n",
    "\n",
    "a = int(input(\"enter a first number : \"))\n",
    "b = int(input(\"enter a second number : \"))\n",
    "c = int(input(\"enter a third number : \"))\n",
    "print(greater_num(a,b,c))"
   ]
  },
  {
   "cell_type": "code",
   "execution_count": null,
   "metadata": {},
   "outputs": [],
   "source": [
    "# Excersice\n",
    "name = input(\"enter a palindrome name : \")\n",
    "def palindrome(name):\n",
    "    if name == name[::-1]:\n",
    "        return True\n",
    "    return False\n",
    "print(palindrome(name))"
   ]
  },
  {
   "cell_type": "code",
   "execution_count": 5,
   "metadata": {},
   "outputs": [
    {
     "name": "stdout",
     "output_type": "stream",
     "text": [
      " how many number of fibonacci series you print : 10\n",
      "0 1 1 2 3 5 8 13 21 34 "
     ]
    }
   ],
   "source": [
    "def fibonacci(n):\n",
    "    a = 0 \n",
    "    b = 1\n",
    "    if n == 1:\n",
    "        print(a)\n",
    "    elif n == 2:\n",
    "        print(a, b)\n",
    "    else:\n",
    "        print(a, b, end = \" \")\n",
    "        for i in range(n-2):\n",
    "            c = a+b\n",
    "            a = b\n",
    "            b = c\n",
    "            print(b, end = \" \")\n",
    "\n",
    "no = int(input(\" how many number of fibonacci series you print : \"))\n",
    "fibonacci(no)   "
   ]
  },
  {
   "cell_type": "code",
   "execution_count": null,
   "metadata": {},
   "outputs": [],
   "source": [
    "# deals with arbitaray arguments\n",
    "\n",
    "def pizzaOrder(size,flavour,*topping):\n",
    "    print(f\"size of piza is {size}, flavour of piza is {flavour} and topping is {topping}\")\n",
    "\n",
    "pizzaOrder(12,\"chickenTikka\",\"olivas\",\"fruits\")"
   ]
  },
  {
   "cell_type": "code",
   "execution_count": 6,
   "metadata": {},
   "outputs": [
    {
     "data": {
      "text/plain": [
       "6"
      ]
     },
     "execution_count": 6,
     "metadata": {},
     "output_type": "execute_result"
    }
   ],
   "source": [
    "# using functions as a variable\n",
    "\n",
    "def add(a,b):\n",
    "    return a+b\n",
    "\n",
    "def sub(b,a):\n",
    "    return a-b\n",
    "\n",
    "result = add(2,3) + sub(2,3)\n",
    "result"
   ]
  },
  {
   "cell_type": "code",
   "execution_count": 7,
   "metadata": {},
   "outputs": [
    {
     "name": "stdout",
     "output_type": "stream",
     "text": [
      "gross salary is 65000\n"
     ]
    }
   ],
   "source": [
    "# Functions with in a funtion\n",
    "\n",
    "def commisioncalc(sales):\n",
    "    if sales > 100:\n",
    "        return sales*100\n",
    "    elif sales > 50:\n",
    "        return sales*50\n",
    "    elif sales > 20:\n",
    "        return sales*20\n",
    "    else:\n",
    "        return 0\n",
    "def salary(basic, sales):\n",
    "    grossSalary = basic + commisioncalc(sales)\n",
    "    print(f\"gross salary is {grossSalary}\")\n",
    "\n",
    "salary(50000,150)"
   ]
  },
  {
   "cell_type": "code",
   "execution_count": null,
   "metadata": {},
   "outputs": [],
   "source": [
    "# Lists\n",
    "alist = [\"zain\",12,\"umair\"]\n",
    "alist"
   ]
  },
  {
   "cell_type": "code",
   "execution_count": null,
   "metadata": {},
   "outputs": [],
   "source": [
    "# access a member\n",
    "alist[2]"
   ]
  },
  {
   "cell_type": "code",
   "execution_count": null,
   "metadata": {},
   "outputs": [],
   "source": [
    "# find lenght of list\n",
    "len(alist)"
   ]
  },
  {
   "cell_type": "code",
   "execution_count": null,
   "metadata": {},
   "outputs": [],
   "source": [
    "fruits = [\"mango\", \"banana\"]"
   ]
  },
  {
   "cell_type": "code",
   "execution_count": null,
   "metadata": {},
   "outputs": [],
   "source": [
    "# add member in list (append & insert)\n",
    "fruits.append(\"orange\") # append add by default in end\n",
    "fruits"
   ]
  },
  {
   "cell_type": "code",
   "execution_count": null,
   "metadata": {},
   "outputs": [],
   "source": [
    "fruits.insert(3,\"graphs\") # insert add with by their index which you give\n",
    "fruits"
   ]
  },
  {
   "cell_type": "code",
   "execution_count": null,
   "metadata": {},
   "outputs": [],
   "source": [
    "# add one or more value in list then used \"Extend\"\n",
    "fruits.extend([\"blueberry\",\"cherry\"])\n",
    "fruits"
   ]
  },
  {
   "cell_type": "code",
   "execution_count": null,
   "metadata": {},
   "outputs": [],
   "source": [
    "# Count value in list\n",
    "fruits.count(\"mango\")"
   ]
  },
  {
   "cell_type": "code",
   "execution_count": null,
   "metadata": {},
   "outputs": [],
   "source": [
    "# find index in list\n",
    "fruits.index(\"graphs\")"
   ]
  },
  {
   "cell_type": "code",
   "execution_count": null,
   "metadata": {},
   "outputs": [],
   "source": [
    "# clear \n",
    "fruits.clear()\n",
    "fruits"
   ]
  },
  {
   "cell_type": "code",
   "execution_count": null,
   "metadata": {},
   "outputs": [],
   "source": [
    "fruits = [\"blueberry\",\"cherry\"]"
   ]
  },
  {
   "cell_type": "code",
   "execution_count": null,
   "metadata": {},
   "outputs": [],
   "source": [
    "# copy\n",
    "fruits2 = fruits.copy() # by value\n",
    "fruits2"
   ]
  },
  {
   "cell_type": "code",
   "execution_count": null,
   "metadata": {},
   "outputs": [],
   "source": [
    "fruits3 = fruits    # by refrence\n",
    "fruits3"
   ]
  },
  {
   "cell_type": "code",
   "execution_count": null,
   "metadata": {},
   "outputs": [],
   "source": [
    "fruits.append(\"mango\")\n",
    "fruits3"
   ]
  },
  {
   "cell_type": "code",
   "execution_count": null,
   "metadata": {},
   "outputs": [],
   "source": [
    "fruits2"
   ]
  },
  {
   "cell_type": "code",
   "execution_count": null,
   "metadata": {},
   "outputs": [],
   "source": [
    "# removing an item from a list (del, remove)\n",
    "del fruits2[1] # first one perpmenantly delete\n",
    "fruits2"
   ]
  },
  {
   "cell_type": "code",
   "execution_count": null,
   "metadata": {},
   "outputs": [],
   "source": [
    "fruits2.remove(\"blueberry\") # second one provide actual value not index\n",
    "fruits2"
   ]
  },
  {
   "cell_type": "code",
   "execution_count": null,
   "metadata": {},
   "outputs": [],
   "source": [
    "# Pop\n",
    "poppedfruits = fruits.pop() # by default end pop\n",
    "print(f\"This fruit is pop from the list {poppedfruits}\")\n",
    "print(f\"Remaning fruits will be {fruits}\")"
   ]
  },
  {
   "cell_type": "code",
   "execution_count": null,
   "metadata": {},
   "outputs": [],
   "source": [
    "poppedfruit = fruits.pop(2) # by index pop\n",
    "fruits"
   ]
  },
  {
   "cell_type": "code",
   "execution_count": null,
   "metadata": {},
   "outputs": [],
   "source": [
    "# sort\n",
    "fruitss = ['mango', 'banana', 'orange', 'graphs', 'blueberry', 'cherry']\n",
    "fruitss.sort() # ascending order\n",
    "fruitss"
   ]
  },
  {
   "cell_type": "code",
   "execution_count": null,
   "metadata": {},
   "outputs": [],
   "source": [
    "fruitss.sort(reverse=True) # disascending order\n",
    "fruitss"
   ]
  },
  {
   "cell_type": "code",
   "execution_count": null,
   "metadata": {},
   "outputs": [],
   "source": [
    "# reverse\n",
    "fruitss.reverse()    # only reverse list\n",
    "fruitss"
   ]
  },
  {
   "cell_type": "code",
   "execution_count": null,
   "metadata": {},
   "outputs": [],
   "source": [
    "# Slicing elements from the lists\n",
    "lists = [1,2,3,4,5,6,7]\n",
    "print(lists[1:4])\n",
    "print(lists[-2:-1])\n",
    "print((lists[1::2]))"
   ]
  },
  {
   "cell_type": "code",
   "execution_count": null,
   "metadata": {},
   "outputs": [],
   "source": [
    "# index      -4        -3        -2       -1\n",
    "student = [\"umair\", \"rashid\", \"waleed\", \"ovais\"]\n",
    "# index       0         1         2        3"
   ]
  },
  {
   "cell_type": "code",
   "execution_count": null,
   "metadata": {},
   "outputs": [],
   "source": [
    "print(student[0])\n",
    "print(student[-4])"
   ]
  },
  {
   "cell_type": "code",
   "execution_count": null,
   "metadata": {},
   "outputs": [],
   "source": [
    "# student[start:end+1]\n",
    "print(student[1:3])"
   ]
  },
  {
   "cell_type": "code",
   "execution_count": null,
   "metadata": {},
   "outputs": [],
   "source": [
    "print(student[-3:-1])"
   ]
  },
  {
   "cell_type": "code",
   "execution_count": null,
   "metadata": {},
   "outputs": [],
   "source": [
    "student[:]"
   ]
  },
  {
   "cell_type": "code",
   "execution_count": null,
   "metadata": {},
   "outputs": [],
   "source": [
    "student[2:]"
   ]
  },
  {
   "cell_type": "code",
   "execution_count": null,
   "metadata": {},
   "outputs": [],
   "source": [
    "student[:2]"
   ]
  },
  {
   "cell_type": "code",
   "execution_count": null,
   "metadata": {},
   "outputs": [],
   "source": [
    "student[2:-1]"
   ]
  },
  {
   "cell_type": "code",
   "execution_count": null,
   "metadata": {},
   "outputs": [],
   "source": [
    "student[2:-4]"
   ]
  },
  {
   "cell_type": "code",
   "execution_count": null,
   "metadata": {},
   "outputs": [],
   "source": [
    "num = [1,2,3,4,5,6,7,8,9,10,11,12,13,14,15,16,17,18,19,20]\n",
    "num[0:16:1]     # num[start:end+1:step]"
   ]
  },
  {
   "cell_type": "code",
   "execution_count": null,
   "metadata": {},
   "outputs": [],
   "source": [
    "num[1:20:2]    # even series"
   ]
  },
  {
   "cell_type": "code",
   "execution_count": null,
   "metadata": {},
   "outputs": [],
   "source": [
    "num[0:20:2]    # odd series"
   ]
  },
  {
   "cell_type": "code",
   "execution_count": null,
   "metadata": {},
   "outputs": [],
   "source": [
    "num[::5]       # start from beging : end tk : step"
   ]
  },
  {
   "cell_type": "code",
   "execution_count": null,
   "metadata": {},
   "outputs": [],
   "source": [
    "# Tuples   they are immutable\n",
    "tupl = [\"umair\", \"setha\", 20]\n",
    "tupl"
   ]
  },
  {
   "cell_type": "code",
   "execution_count": 8,
   "metadata": {},
   "outputs": [
    {
     "data": {
      "text/plain": [
       "[1, 4, 9, 16]"
      ]
     },
     "execution_count": 8,
     "metadata": {},
     "output_type": "execute_result"
    }
   ],
   "source": [
    "# Excercsie Functions\n",
    "def func(number): # value = number\n",
    "    square = []\n",
    "    for i in number:  # number = [1,2,3,4]\n",
    "        square.append(i**2)  #  square = [1,4,9,16]\n",
    "    return square\n",
    "value = list(range(1,5))\n",
    "func(value)"
   ]
  },
  {
   "cell_type": "code",
   "execution_count": 9,
   "metadata": {},
   "outputs": [
    {
     "name": "stdout",
     "output_type": "stream",
     "text": [
      "[4, 3, 2, 1]\n"
     ]
    }
   ],
   "source": [
    "# Exercise\n",
    "def reverse(l):\n",
    "    l.reverse()\n",
    "    return l\n",
    "    \n",
    "num = [1,2,3,4]\n",
    "print(reverse(num))"
   ]
  },
  {
   "cell_type": "code",
   "execution_count": 10,
   "metadata": {},
   "outputs": [
    {
     "name": "stdout",
     "output_type": "stream",
     "text": [
      "[4, 3, 2, 1]\n"
     ]
    }
   ],
   "source": [
    "# Exercise\n",
    "def reverse(l):\n",
    "    return l[::-1]\n",
    "    \n",
    "num = [1,2,3,4]\n",
    "print(reverse(num))"
   ]
  },
  {
   "cell_type": "code",
   "execution_count": 11,
   "metadata": {},
   "outputs": [
    {
     "name": "stdout",
     "output_type": "stream",
     "text": [
      "[4, 3, 2, 1]\n"
     ]
    }
   ],
   "source": [
    "# Exercise\n",
    "def reverse(l):\n",
    "    r_lists = []\n",
    "    for i in range(len(num)):\n",
    "        poped = l.pop()\n",
    "        r_lists.append(poped)\n",
    "    return r_lists\n",
    "    \n",
    "num = [1,2,3,4]\n",
    "print(reverse(num))"
   ]
  },
  {
   "cell_type": "code",
   "execution_count": 12,
   "metadata": {},
   "outputs": [
    {
     "name": "stdout",
     "output_type": "stream",
     "text": [
      "['cba', 'vut', 'zyx']\n"
     ]
    }
   ],
   "source": [
    "# Exercise\n",
    "def r_elements(li):\n",
    "    elements = []\n",
    "    for i in li:\n",
    "        elements.append(i[::-1])\n",
    "    return elements\n",
    "    \n",
    "str = [\"abc\", \"tuv\",\"xyz\"]\n",
    "print(r_elements(str))"
   ]
  },
  {
   "cell_type": "code",
   "execution_count": 18,
   "metadata": {},
   "outputs": [
    {
     "name": "stdout",
     "output_type": "stream",
     "text": [
      "[[1, 3, 5, 7, 9], [2, 4, 6, 8]]\n"
     ]
    }
   ],
   "source": [
    "# Exercise\n",
    "def filters(num):\n",
    "    value = []\n",
    "    value.append(series[::2])\n",
    "    value.append(series[1::2])\n",
    "    return value\n",
    "    \n",
    "series = [1,2,3,4,5,6,7,8,9]\n",
    "print(filters(series))"
   ]
  },
  {
   "cell_type": "code",
   "execution_count": null,
   "metadata": {},
   "outputs": [],
   "source": [
    "def filter_odd_even(l):\n",
    "    even_list = []\n",
    "    odd_list = []\n",
    "    for i in l:\n",
    "        if i % 2 == 0:\n",
    "            even_list.append(i)\n",
    "        else:\n",
    "            odd_list.append(i)\n",
    "    output = [even_list,odd_list]\n",
    "    return output\n",
    "number = [1,2,3,4,5,6,7,8,9]\n",
    "print(filter_odd_even(number))"
   ]
  },
  {
   "cell_type": "code",
   "execution_count": null,
   "metadata": {},
   "outputs": [],
   "source": [
    "# Exercise\n",
    "def common(l1,l2):\n",
    "    common_list = []\n",
    "    for i in l1:\n",
    "        if i in l2:\n",
    "            common_list.append(i)\n",
    "        else:\n",
    "            pass\n",
    "    return common_list\n",
    "list1 = [1,2,3,4]\n",
    "list2 = [1,2,5,7]\n",
    "print(common(list1,list2))"
   ]
  },
  {
   "cell_type": "code",
   "execution_count": null,
   "metadata": {},
   "outputs": [],
   "source": [
    "# Excersice\n",
    "def counter(l):\n",
    "    count = 0\n",
    "    for i in l:\n",
    "        if type(i) == list:\n",
    "            count +=1\n",
    "    return count\n",
    "mixed = [1,2,3,[4,5],[7,8]]\n",
    "print(counter(mixed))"
   ]
  },
  {
   "cell_type": "code",
   "execution_count": null,
   "metadata": {},
   "outputs": [],
   "source": [
    "# Dictionary: there is no order\n",
    "# Excersice\n",
    "def number(n):\n",
    "    cube = {}\n",
    "    for i in range(1,n+1):\n",
    "        cube[i]= i**3\n",
    "    return cube\n",
    "print(number(10))"
   ]
  },
  {
   "cell_type": "code",
   "execution_count": null,
   "metadata": {},
   "outputs": [],
   "source": [
    "# Excersice\n",
    "user = {}\n",
    "name = input(\"Enter your name : \")\n",
    "age = input(\"Enter your age : \")\n",
    "fav_color = input(\"Enter your favourite Color : \")\n",
    "fav_fruit = input(\"Enter your favourite fruit : \")\n",
    "user['name'] = name\n",
    "user['age'] = age\n",
    "user['fav_color'] = fav_color\n",
    "user['fav_fruit'] = fav_fruit\n",
    "\n",
    "for key,value in user.items():\n",
    "    print(f\"{key}:{value}\")"
   ]
  },
  {
   "cell_type": "code",
   "execution_count": 1,
   "metadata": {},
   "outputs": [
    {
     "name": "stdout",
     "output_type": "stream",
     "text": [
      "{1, 2, 3, 4}\n"
     ]
    }
   ],
   "source": [
    "# Set: there is no order\n",
    "s = {1,2,3,4}\n",
    "print(s)"
   ]
  },
  {
   "cell_type": "code",
   "execution_count": null,
   "metadata": {},
   "outputs": [],
   "source": [
    "# find union and intersection\n",
    "s1 = {1,2,3,4}\n",
    "s2 = {3,4,5,6}\n",
    "\n",
    "union = s1 | s2\n",
    "print(\"Union is : \",union)\n",
    "\n",
    "intersection = s1 & s2\n",
    "print(\"intersection is : \",intersection)"
   ]
  },
  {
   "cell_type": "code",
   "execution_count": null,
   "metadata": {},
   "outputs": [],
   "source": [
    "# lists comprehension\n",
    "def reverse(l):\n",
    "    return([name[::-1] for name in l])\n",
    "\n",
    "print(reverse([\"abc\",\"rst\",\"xyz\"]))"
   ]
  },
  {
   "cell_type": "code",
   "execution_count": 2,
   "metadata": {},
   "outputs": [
    {
     "name": "stdout",
     "output_type": "stream",
     "text": [
      "['1', '1.0', '3']\n"
     ]
    }
   ],
   "source": [
    "# Exerciese \n",
    "def num_to_str(l):\n",
    "    return [str(i) for i in l if (type(i) == int or type(i) == float)]\n",
    "\n",
    "print(num_to_str([True, False, [1,2,3], 1, 1.0, 3]))"
   ]
  },
  {
   "cell_type": "code",
   "execution_count": 3,
   "metadata": {},
   "outputs": [
    {
     "data": {
      "text/plain": [
       "[-1, 4, -3, 8, -5, 12, -7, 16, -9]"
      ]
     },
     "execution_count": 3,
     "metadata": {},
     "output_type": "execute_result"
    }
   ],
   "source": [
    "# Excersice if with else\n",
    "num = [1,2,3,4,5,6,7,8,9]\n",
    "new_list = [i*2 if (i % 2 == 0) else -i  for i in num]\n",
    "new_list"
   ]
  },
  {
   "cell_type": "code",
   "execution_count": 4,
   "metadata": {},
   "outputs": [
    {
     "name": "stdout",
     "output_type": "stream",
     "text": [
      "[[1, 2, 3], [1, 2, 3], [1, 2, 3]]\n"
     ]
    }
   ],
   "source": [
    "# Excersice nested loop\n",
    "nested = [[i for i in range(1,4)] for j in range(3)]\n",
    "print(nested)"
   ]
  },
  {
   "cell_type": "code",
   "execution_count": 5,
   "metadata": {},
   "outputs": [
    {
     "name": "stdout",
     "output_type": "stream",
     "text": [
      "Square of 1 is  : 1\n",
      "Square of 2 is  : 4\n",
      "Square of 3 is  : 9\n",
      "Square of 4 is  : 16\n",
      "Square of 5 is  : 25\n",
      "Square of 6 is  : 36\n",
      "Square of 7 is  : 49\n",
      "Square of 8 is  : 64\n",
      "Square of 9 is  : 81\n",
      "Square of 10 is  : 100\n"
     ]
    }
   ],
   "source": [
    "# Dictionary Comprehesion\n",
    "square = {f\"Square of {i} is \" : i**2 for i in range(1,11)}\n",
    "for j,k in square.items():\n",
    "    print(f\"{j} : {k}\")"
   ]
  },
  {
   "cell_type": "code",
   "execution_count": 6,
   "metadata": {},
   "outputs": [
    {
     "name": "stdout",
     "output_type": "stream",
     "text": [
      "{'Z': 1, 'u': 1, 'r': 1, 'n': 1, 'a': 1, 'i': 1, 'b': 1}\n"
     ]
    }
   ],
   "source": [
    "# Excersicse\n",
    "string = \"Zurnaib\"\n",
    "word_count = {char: string.count(char) for char in string}\n",
    "print(word_count)"
   ]
  },
  {
   "cell_type": "code",
   "execution_count": 7,
   "metadata": {},
   "outputs": [
    {
     "name": "stdout",
     "output_type": "stream",
     "text": [
      "1 : odd\n",
      "2 : even\n",
      "3 : odd\n",
      "4 : even\n",
      "5 : odd\n",
      "6 : even\n",
      "7 : odd\n",
      "8 : even\n",
      "9 : odd\n",
      "10 : even\n"
     ]
    }
   ],
   "source": [
    "# Excersicse\n",
    "odd_even = {i:('even' if i%2 == 0 else 'odd') for i in range(1,11)}\n",
    "for j,k in odd_even.items():\n",
    "    print(f\"{j} : {k}\")"
   ]
  },
  {
   "cell_type": "code",
   "execution_count": 8,
   "metadata": {},
   "outputs": [
    {
     "name": "stdout",
     "output_type": "stream",
     "text": [
      "{64, 1, 4, 36, 100, 9, 16, 49, 81, 25}\n"
     ]
    }
   ],
   "source": [
    "# Set comprehension\n",
    "s = {i**2 for i in range(1,11)}\n",
    "print(s) \n",
    "# because there is no order in set or as well as dictionary"
   ]
  },
  {
   "cell_type": "code",
   "execution_count": null,
   "metadata": {},
   "outputs": [],
   "source": [
    "# iterable Functions it is start with * and known as *args and *operator\n",
    "# *args islye use hota hai k hum boht sary number for example sum kr sakhty hain or is ki type tuple h\n",
    "# Excersice solve using list comprehension\n",
    "def power(n, *args):\n",
    "    if args:\n",
    "        return[i**n for i in args]\n",
    "    else:\n",
    "        return \"Hey You didn't pass argument\"\n",
    "\n",
    "num = [1,2,3]\n",
    "print(power(3, *num)) # yaha star islye likha taky list unpack hu jai or phr agy process hu"
   ]
  },
  {
   "cell_type": "code",
   "execution_count": null,
   "metadata": {},
   "outputs": [],
   "source": [
    "# **kwargs (keyword arguments)\n",
    "# **kwargs type is dictionary\n",
    "# Excersice\n",
    "def func(l, **kwargs):\n",
    "    if kwargs.get('reverse_str')== True:\n",
    "        return [name[::-1].tittle() for name in l]\n",
    "    else:\n",
    "        return [name.title() for name in l]\n",
    "\n",
    "names = ['zain', 'ahmad']\n",
    "print(func(names, reverse_str = True))"
   ]
  },
  {
   "cell_type": "code",
   "execution_count": 9,
   "metadata": {},
   "outputs": [
    {
     "name": "stdout",
     "output_type": "stream",
     "text": [
      "5\n",
      "6\n"
     ]
    }
   ],
   "source": [
    "# lambda Expression (anonymous function)\n",
    "\n",
    "add = lambda a,b : a+b # is ma bs hum concept samjh rahy lambda builttan function k sath use hota ha\n",
    "print(add(2,3))   # lambda kisi variable k equal assign nhi krty normally\n",
    "\n",
    "multiply = lambda a,b : a*b\n",
    "print(multiply(2,3))"
   ]
  },
  {
   "cell_type": "code",
   "execution_count": null,
   "metadata": {},
   "outputs": [],
   "source": [
    "# lambda Expression Practice\n",
    "is_even = lambda a : a % 2 == 0\n",
    "print(is_even(2))\n",
    "\n",
    "last_char = lambda s : s[-1]\n",
    "print(last_char('BBsuL'))"
   ]
  },
  {
   "cell_type": "code",
   "execution_count": null,
   "metadata": {},
   "outputs": [],
   "source": [
    "# lambda Expression Practice with if, else\n",
    "length = lambda s : True if len(s) > 5 else False\n",
    "print(length(\"umair\"))"
   ]
  },
  {
   "cell_type": "code",
   "execution_count": null,
   "metadata": {},
   "outputs": [],
   "source": [
    "# Enumerate Function we use in for loop for track the position of iterable items\n",
    "\n",
    "# simple program without enumerate\n",
    "names = ['umair', 'rashid', 'waleed']\n",
    "# pos = 0\n",
    "# for name in names:\n",
    "#    print(f\"{pos} ----> {name}\")\n",
    "#    pos += 1\n",
    "\n",
    "# Using enumerate function\n",
    "for pos, name in enumerate(names):\n",
    "    print(f\"{pos} ----> {name}\")"
   ]
  },
  {
   "cell_type": "code",
   "execution_count": null,
   "metadata": {},
   "outputs": [],
   "source": [
    "# Exsercise\n",
    "def pos_target(l, target):\n",
    "    for pos, name in enumerate(names):\n",
    "            if name == target:\n",
    "                return pos\n",
    "    print(\"Not Present\")\n",
    "\n",
    "names = ['umair', 'rashid', 'waleed']\n",
    "pos_target(names,'zain')\n",
    "print(pos_target(names,'waleed'))"
   ]
  },
  {
   "cell_type": "code",
   "execution_count": null,
   "metadata": {},
   "outputs": [],
   "source": [
    "# Map Function\n",
    "# practice\n",
    "numbers = [1,2,3,4]\n",
    "def square(a):\n",
    "    return a**2\n",
    "                            # lists, tuple, etc\n",
    "squares = list(map(square, numbers))\n",
    "                # fuction name\n",
    "print(squares)"
   ]
  },
  {
   "cell_type": "code",
   "execution_count": null,
   "metadata": {},
   "outputs": [],
   "source": [
    "# perform with lambda expression\n",
    "numbers = [1,2,3,4]\n",
    "squares = list(map(lambda a : a**2, numbers))\n",
    "print(squares)"
   ]
  },
  {
   "cell_type": "code",
   "execution_count": null,
   "metadata": {},
   "outputs": [],
   "source": [
    "# perform with list comprehension\n",
    "numbers = [1,2,3,4]\n",
    "squares = [i**2 for i in numbers]\n",
    "print(squares)"
   ]
  },
  {
   "cell_type": "code",
   "execution_count": null,
   "metadata": {},
   "outputs": [],
   "source": [
    "# Filter Function\n",
    "numbers = [1,2,3,4,5,6,7,8,9]\n",
    "evens = list(filter(lambda a : a%2 == 0, numbers))\n",
    "print(evens)"
   ]
  },
  {
   "cell_type": "code",
   "execution_count": null,
   "metadata": {},
   "outputs": [],
   "source": [
    "# Zip Function\n",
    "names = ['umair', 'waleed', 'rashid']\n",
    "user_id = ['user1', 'user2', 'user3']\n",
    "print(list(zip(user_id, names)))"
   ]
  },
  {
   "cell_type": "code",
   "execution_count": null,
   "metadata": {},
   "outputs": [],
   "source": [
    "# Excersice *operator with zip\n",
    "l = [(1,2),(3,4),(5,6),(7,8)]\n",
    "l1, l2 = zip(*l)\n",
    "print(\"L1 =\", list(l1))\n",
    "print(\"L2 =\",list(l2))"
   ]
  },
  {
   "cell_type": "code",
   "execution_count": null,
   "metadata": {},
   "outputs": [],
   "source": [
    "# Excersice\n",
    "l1 = [1, 3, 5, 7]\n",
    "l2 = [2, 4, 6, 8]\n",
    "new_l = []\n",
    "for pair in zip(l1,l2):\n",
    "    new_l.append(max(pair))\n",
    "\n",
    "print(\"Maximum Numbers of L1 and L2 :\",new_l)"
   ]
  },
  {
   "cell_type": "code",
   "execution_count": null,
   "metadata": {},
   "outputs": [],
   "source": [
    "# Exercise\n",
    "def average_finder(*args):\n",
    "    average = []\n",
    "    for pair in zip(*args):\n",
    "        average.append(sum(pair)/len(pair))\n",
    "    return average\n",
    "\n",
    "print(\"average =\",average_finder([1,2,3],[4,5,6],[7,8,9]))"
   ]
  },
  {
   "cell_type": "code",
   "execution_count": null,
   "metadata": {},
   "outputs": [],
   "source": [
    "# Exercise\n",
    "average_finder = lambda *args : [sum(pair)/len(pair) for pair in zip(*args)]\n",
    "\n",
    "print(\"average =\",average_finder([1,2,3],[4,5,6],[7,8,9]))"
   ]
  },
  {
   "cell_type": "code",
   "execution_count": null,
   "metadata": {},
   "outputs": [],
   "source": [
    "# all function\n",
    "numbers1 = [2,4,6,8]\n",
    "numbers2 = [1,2,3,4,5,6]\n",
    "print(all([num%2==0 for num in numbers1]))\n",
    "print(all([num%2==0 for num in numbers2]))"
   ]
  },
  {
   "cell_type": "code",
   "execution_count": null,
   "metadata": {},
   "outputs": [],
   "source": [
    "# any function\n",
    "number = [1,2,3,5]\n",
    "print(any([num%2==0 for num in number]))"
   ]
  },
  {
   "cell_type": "code",
   "execution_count": null,
   "metadata": {},
   "outputs": [],
   "source": [
    "# advance max and min\n",
    "def func(item):\n",
    "    return len(item)\n",
    "\n",
    "names = ['umair', 'rashid', 'Zain-Ul-Abideen']\n",
    "print(max(names, key = func))\n",
    "print(min(names, key = func))"
   ]
  },
  {
   "cell_type": "code",
   "execution_count": null,
   "metadata": {},
   "outputs": [],
   "source": [
    "names = ['umair', 'rashid', 'Zain-Ul-Abideen']\n",
    "print(max(names, key = lambda item: len(item)))\n",
    "print(min(names, key = lambda item: len(item)))"
   ]
  },
  {
   "cell_type": "code",
   "execution_count": null,
   "metadata": {},
   "outputs": [],
   "source": [
    "students = [\n",
    "    {'name':'umair', 'score': 90, 'age' : 18},\n",
    "    {'name':'rashid', 'score': 95, 'age' : 20},\n",
    "    {'name':'waleed', 'score': 85, 'age' : 19}\n",
    "]\n",
    "print(max(students, key = lambda item: item.get('score'))['name'])"
   ]
  },
  {
   "cell_type": "code",
   "execution_count": null,
   "metadata": {},
   "outputs": [],
   "source": [
    "students = {\n",
    "    'umair': {'score': 90, 'age' : 18},\n",
    "    'rashid': {'score': 95, 'age' : 20},\n",
    "    'waleed': {'score': 85, 'age' : 19}\n",
    "}\n",
    "print(max(students, key = lambda item: students[item]['age']))"
   ]
  },
  {
   "cell_type": "code",
   "execution_count": null,
   "metadata": {},
   "outputs": [],
   "source": [
    "bikes = [\n",
    "    {'model':'honda-70', 'price': 75000},\n",
    "    {'model':'China-70', 'price': 58000},\n",
    "    {'model':'honda-125', 'price': 150000}\n",
    "]\n",
    "print(\"Low to High :\",sorted(bikes, key = lambda pr: pr['price']))\n",
    "print(\"High to Low :\",sorted(bikes, key = lambda pr: pr['price'], reverse = True))"
   ]
  },
  {
   "cell_type": "code",
   "execution_count": null,
   "metadata": {},
   "outputs": [],
   "source": [
    "# Pass function as argument\n",
    "def square(a):\n",
    "    return a**2 \n",
    "l = [1,2,3,4]\n",
    "#(function)func, l(iterable)\n",
    "def my_map(func, l):\n",
    "    new_list = []\n",
    "    for item in l:\n",
    "        new_list.append(func(item))\n",
    "    return new_list\n",
    "\n",
    "print(my_map(square, l))"
   ]
  },
  {
   "cell_type": "code",
   "execution_count": null,
   "metadata": {},
   "outputs": [],
   "source": [
    "# Function returing function another name is \"closuers\" or \"first class function\"\n",
    "def outer_func():\n",
    "    def inner_func():\n",
    "        print(\"inside inner funtion\")\n",
    "    return inner_func\n",
    "a = outer_func()\n",
    "a()"
   ]
  },
  {
   "cell_type": "code",
   "execution_count": null,
   "metadata": {},
   "outputs": [],
   "source": [
    "# Excerscie\n",
    "def to_power(base):\n",
    "    def calc(power):\n",
    "        return base**power\n",
    "    return calc\n",
    "    # a assign calc func\n",
    "a = to_power(int(input(\"Enter a number for Base : \")))\n",
    "print(a(int(input(\"Enter a number for power : \"))))"
   ]
  },
  {
   "cell_type": "code",
   "execution_count": null,
   "metadata": {},
   "outputs": [],
   "source": [
    "# Decorators : enhance(increase) the functionality of other functions\n",
    "# @ use for decorator\n",
    "\n",
    "def decorator_function(any_function):\n",
    "    def wrapper_function():\n",
    "        print(\"this is great function\")\n",
    "        any_function()\n",
    "    return wrapper_function\n",
    "\n",
    "@decorator_function # Shortcut\n",
    "def func1():\n",
    "    print(\"this is function 1\")\n",
    "\n",
    "func1()\n",
    "\n",
    "@decorator_function\n",
    "def func2():\n",
    "    print(\"this is function 2\")\n",
    "    \n",
    "func2()\n",
    "\n",
    "#func2 = decorator_function(func2)\n",
    "#func2()"
   ]
  },
  {
   "cell_type": "code",
   "execution_count": null,
   "metadata": {},
   "outputs": [],
   "source": [
    "# Practice\n",
    "from functools import wraps\n",
    "def decorator_function(any_function):\n",
    "    @wraps(any_function)\n",
    "    def wrapper_function(*args, **kwargs):\n",
    "        \"\"\"this is wrapper function\"\"\"      # this is doc string\n",
    "        print(\"this is great function\")\n",
    "        return any_function(*args, **kwargs)\n",
    "    return wrapper_function\n",
    "\n",
    "@decorator_function\n",
    "def func(a):\n",
    "    print(f\"this is function with argument {a}\")\n",
    "\n",
    "func(5)\n",
    "\n",
    "def add(a,b,c):\n",
    "    '''this add function'''\n",
    "    return a+b+c\n",
    "\n",
    "print(\"Sum is : \",add(2,3,4))\n",
    "\n",
    "print(add.__doc__)     # doc s wo doc string print gu ge\n",
    "print(add.__name__)    # name s function k name print hu ga"
   ]
  },
  {
   "cell_type": "code",
   "execution_count": null,
   "metadata": {},
   "outputs": [],
   "source": [
    "# Practice\n",
    "from functools import wraps\n",
    "def decorator(function):\n",
    "    @wraps(function)\n",
    "    def wrapper(*args, **kwargs):\n",
    "        print(f\"you are calling {function.__name__}\")\n",
    "        print(f\"{function.__doc__}\")\n",
    "        return function(*args, **kwargs)\n",
    "    return wrapper\n",
    "\n",
    "@ decorator\n",
    "def add(a,b):\n",
    "    \"\"\"This function takes two number as arguments and their sum \"\"\"\n",
    "    return a + b\n",
    "\n",
    "@ decorator\n",
    "def sub(a,b):\n",
    "    \"\"\"This function takes two number as arguments and their subtraction \"\"\"\n",
    "    return a - b\n",
    "\n",
    "@ decorator\n",
    "def mult(a,b):\n",
    "    \"\"\"This function takes two number as arguments and their multilication \"\"\"\n",
    "    return a * b\n",
    "\n",
    "print(\"Addition is : \",add(5,4))\n",
    "print(\"Subtraction is : \",sub(5,4))\n",
    "print(\"Multiplication is : \",mult(5,4))"
   ]
  },
  {
   "cell_type": "code",
   "execution_count": null,
   "metadata": {},
   "outputs": [],
   "source": [
    "# how to calculate time in your program which you run\n",
    "import time\n",
    "t1 = time.time()\n",
    "print(\"this is line one\")\n",
    "x = 2\n",
    "if x == 2:\n",
    "    print(\"present\")\n",
    "print(\"this is line two\")\n",
    "t2 = time.time()\n",
    "print(t2-t1)"
   ]
  },
  {
   "cell_type": "code",
   "execution_count": null,
   "metadata": {},
   "outputs": [],
   "source": [
    "# Practice\n",
    "from functools import wraps\n",
    "def only_int_allow(function):\n",
    "    @wraps(function)\n",
    "    def wrapper(*args, **kwargs):\n",
    "        data_type = []\n",
    "        for arg in args:\n",
    "            data_type.append(type(arg)== int)\n",
    "        if all(data_type):\n",
    "            return function(*args, **kwargs)\n",
    "        else:\n",
    "            return \"Invalid arguments\"\n",
    "    return wrapper\n",
    "\n",
    "@only_int_allow\n",
    "def add_all(*args):\n",
    "    total = 0\n",
    "    for i in args:\n",
    "        total += i\n",
    "    return total\n",
    "\n",
    "print(add_all(1,2,3, [1,2]))"
   ]
  },
  {
   "cell_type": "code",
   "execution_count": null,
   "metadata": {},
   "outputs": [],
   "source": [
    "# Practice\n",
    "from functools import wraps\n",
    "def only_int_allow(function):\n",
    "    @wraps(function)\n",
    "    def wrapper(*args, **kwargs):\n",
    "        if all([type(arg)==int for arg in args]):\n",
    "            return function(*args, **kwargs)\n",
    "        return \"Invalid arguments\"\n",
    "    return wrapper\n",
    "\n",
    "@only_int_allow\n",
    "def add_all(*args):\n",
    "    total = 0\n",
    "    for i in args:\n",
    "        total += i\n",
    "    return total\n",
    "\n",
    "print(add_all(1,2,3))"
   ]
  },
  {
   "cell_type": "code",
   "execution_count": null,
   "metadata": {},
   "outputs": [],
   "source": [
    "# Decorator with arguments\n",
    "from functools import wraps\n",
    "def only_data_type_allow(data_type):\n",
    "    def decorator(function):\n",
    "        @wraps(function)\n",
    "        def wrapper(*args, **kwargs):\n",
    "            if all([type(arg)==data_type for arg in args]):\n",
    "                return function(*args, **kwargs)\n",
    "            return \"Invalid arguments\"\n",
    "        return wrapper\n",
    "    return decorator\n",
    "\n",
    "@only_data_type_allow(str)\n",
    "def string_join(*args):\n",
    "    string = ''\n",
    "    for i in args:\n",
    "        string += i\n",
    "    return string\n",
    "\n",
    "print(string_join('Zain','Ahmad'))"
   ]
  },
  {
   "cell_type": "code",
   "execution_count": null,
   "metadata": {},
   "outputs": [],
   "source": [
    "# Generators : generators are iterators\n",
    "# Generator is a sequence\n",
    "# Generator is use when one time the member of sequence is used\n",
    "# create generator with generator function\n",
    "def num(n):\n",
    "    for i in range(1,n+1):\n",
    "        yield(i)     # yield is a keyword use for generator\n",
    "print(num(10)) "
   ]
  },
  {
   "cell_type": "code",
   "execution_count": null,
   "metadata": {},
   "outputs": [],
   "source": [
    "def num(n):\n",
    "    for i in range(1,n+1):\n",
    "        yield(i)     # yield is a keyword use for generator\n",
    "for number in num(10):\n",
    "    print(number)"
   ]
  },
  {
   "cell_type": "code",
   "execution_count": null,
   "metadata": {},
   "outputs": [],
   "source": [
    "# Excersice\n",
    "def nums(n):\n",
    "    for i in range(2, n+1, 2):\n",
    "        yield(i)\n",
    "            \n",
    "for number in nums(10):\n",
    "    print(number)"
   ]
  },
  {
   "cell_type": "code",
   "execution_count": null,
   "metadata": {},
   "outputs": [],
   "source": [
    "# Geneartor Comprehension\n",
    "square = (i**2 for i in range(1,10))\n",
    "print(square)\n",
    "for num in square:\n",
    "    print(num)"
   ]
  },
  {
   "cell_type": "code",
   "execution_count": null,
   "metadata": {},
   "outputs": [],
   "source": [
    "# object obriented programming\n",
    "class Person:\n",
    "    def __init__(self, first_name, last_name, age):\n",
    "        self.first_name = first_name\n",
    "        self.last_name = last_name\n",
    "        self.age = age\n",
    "\n",
    "p1 = Person('Zain', 'Ahmad', 20)\n",
    "\n",
    "print(p1.first_name)"
   ]
  },
  {
   "cell_type": "code",
   "execution_count": null,
   "metadata": {},
   "outputs": [],
   "source": [
    "# Excercise\n",
    "class Laptop:\n",
    "    def __init__(self, brand_name, model_name, price):\n",
    "        self.brand_name = brand_name\n",
    "        self.model_name = model_name\n",
    "        self.price = price\n",
    "\n",
    "l1 = Laptop('hp', '640dc', 30000)\n",
    "l2 = Laptop('dell', '5342', 20000)\n",
    "\n",
    "print(l1.brand_name,l1.model_name)"
   ]
  },
  {
   "cell_type": "code",
   "execution_count": null,
   "metadata": {},
   "outputs": [],
   "source": [
    "# intance methods.... (jo class k andar banaty hain or ye sb s zada use hoty hain)\n",
    "class Person:\n",
    "    def __init__(self, first_name, last_name, age):\n",
    "        self.first_name = first_name\n",
    "        self.last_name = last_name\n",
    "        self.age = age\n",
    "        \n",
    "    def full_name(self):\n",
    "        return f\"{self.first_name} {self.last_name}\"\n",
    "\n",
    "p1 = Person('Zain', 'Ahmad', 20)\n",
    "\n",
    "print(p1.full_name())\n",
    "print(Person.full_name(p1))"
   ]
  },
  {
   "cell_type": "code",
   "execution_count": null,
   "metadata": {},
   "outputs": [],
   "source": [
    "# Excercise\n",
    "class Laptop:\n",
    "    def __init__(self, brand_name, model_name, price):\n",
    "        self.brand_name = brand_name\n",
    "        self.model_name = model_name\n",
    "        self.price = price\n",
    "        \n",
    "    def discount(self, num):\n",
    "        dis_price = (num/100)*self.price\n",
    "        return self.price - dis_price\n",
    "\n",
    "l1 = Laptop('hp', '640dc', 30000)\n",
    "l2 = Laptop('apple', 'macbook', 120000)\n",
    "print(\"After Discount : \",l1.discount(20))"
   ]
  },
  {
   "cell_type": "code",
   "execution_count": null,
   "metadata": {},
   "outputs": [],
   "source": [
    "# Class variable\n",
    "class Circle:\n",
    "    pi = 3.14      # Class variable or class attribute\n",
    "    def __init__(self, radius):\n",
    "        self.radius = radius\n",
    "        \n",
    "    def calc_circum(self):\n",
    "        return 2*Circle.pi*self.radius\n",
    "    \n",
    "c = Circle(4)\n",
    "print(\"Circumference is : \",c.calc_circum())"
   ]
  },
  {
   "cell_type": "code",
   "execution_count": null,
   "metadata": {},
   "outputs": [],
   "source": [
    "# Practice\n",
    "class Laptop:\n",
    "    lap_discount = 20\n",
    "    def __init__(self, brand_name, model_name, price):\n",
    "        self.brand_name = brand_name\n",
    "        self.model_name = model_name\n",
    "        self.price = price\n",
    "        \n",
    "    def discount(self):\n",
    "        dis_price = (self.lap_discount/100)*self.price\n",
    "        return self.price - dis_price\n",
    "\n",
    "l1 = Laptop('hp', '640dc', 30000)\n",
    "l2 = Laptop('apple', 'macbook', 120000)\n",
    "l2.lap_discount = 25\n",
    "\n",
    "print(\"After Discount : \",l1.discount())\n",
    "print(\"After Discount : \",l2.discount())\n",
    "print(l1.__dict__)"
   ]
  },
  {
   "cell_type": "code",
   "execution_count": null,
   "metadata": {},
   "outputs": [],
   "source": [
    "# Excercise\n",
    "class Person:\n",
    "    count_instance = 0\n",
    "    def __init__(self, first_name, last_name, age):\n",
    "        Person.count_instance +=1\n",
    "        self.first_name = first_name\n",
    "        self.last_name = last_name\n",
    "        self.age = age\n",
    "\n",
    "p1 = Person('Zain', 'Ahmad', 20)\n",
    "p2 = Person('umair', 'Javed', 19)\n",
    "p3 = Person('waleed', 'anwar', 21)\n",
    "\n",
    "print(Person.count_instance)"
   ]
  },
  {
   "cell_type": "code",
   "execution_count": null,
   "metadata": {},
   "outputs": [],
   "source": [
    "# Class Method\n",
    "class Person:\n",
    "    count_instance = 0\n",
    "    def __init__(self, first_name, last_name, age):\n",
    "        Person.count_instance +=1\n",
    "        self.first_name = first_name\n",
    "        self.last_name = last_name\n",
    "        self.age = age\n",
    "    \n",
    "    @classmethod      # class method decorator\n",
    "    def count_insts(cls):   # cls represent class or basically cls is class\n",
    "        return f\"you have created {cls.count_instance} of {cls.__name__}\"\n",
    "    \n",
    "    def full_name(self):\n",
    "        return f\"{self.first_name} {self.last_name}\"\n",
    "\n",
    "p1 = Person('Zain', 'Ahmad', 20)\n",
    "p2 = Person('umair', 'Javed', 19)\n",
    "\n",
    "print(Person.count_insts())"
   ]
  },
  {
   "cell_type": "code",
   "execution_count": null,
   "metadata": {},
   "outputs": [],
   "source": [
    "# Class Method as constructor..... (Is ma hum khud constructor create kryn gyn)\n",
    "class Person:\n",
    "    count_instance = 0\n",
    "    def __init__(self, first_name, last_name, age):\n",
    "        Person.count_instance +=1\n",
    "        self.first_name = first_name\n",
    "        self.last_name = last_name\n",
    "        self.age = age\n",
    "        \n",
    "    @classmethod\n",
    "    def from_string(cls,string):\n",
    "        first,last,age = string.split(',')\n",
    "        return cls(first,last,age)\n",
    "    \n",
    "    @classmethod\n",
    "    def count_insts(cls):\n",
    "        return f\"you have created {cls.count_instance} of {cls.__name__}\"\n",
    "    \n",
    "    def full_name(self):\n",
    "        return f\"{self.first_name} {self.last_name}\"\n",
    "\n",
    "p1 = Person('Zain', 'Ahmad', 20)\n",
    "p2 = Person('umair', 'Javed', 19)\n",
    "p3 = Person.from_string('waleed, anwar, 21')\n",
    "\n",
    "print(p3.full_name())"
   ]
  },
  {
   "cell_type": "code",
   "execution_count": null,
   "metadata": {},
   "outputs": [],
   "source": [
    "# Static Method..... (ye hum is lye use krty hain jese hum seperate kuch likhna ya krne chahyn jo self ya cls se link na hun)\n",
    "class Person:\n",
    "    count_instance = 0\n",
    "    def __init__(self, first_name, last_name, age):\n",
    "        Person.count_instance +=1\n",
    "        self.first_name = first_name\n",
    "        self.last_name = last_name\n",
    "        self.age = age\n",
    "        \n",
    "    @classmethod\n",
    "    def from_string(cls,string):\n",
    "        first,last,age = string.split(',')\n",
    "        return cls(first,last,age)\n",
    "    \n",
    "    @classmethod\n",
    "    def count_insts(cls):\n",
    "        return f\"you have created {cls.count_instance} of {cls.__name__}\"\n",
    "    \n",
    "    @staticmethod   # static method decorator\n",
    "    def hello():\n",
    "        print(\"hello, static method called !\")\n",
    "    \n",
    "    def full_name(self):\n",
    "        return f\"{self.first_name} {self.last_name}\"\n",
    "\n",
    "p1 = Person('Zain', 'Ahmad', 20)\n",
    "p2 = Person('umair', 'Javed', 19)\n",
    "p3 = Person.from_string('waleed, anwar, 21')\n",
    "\n",
    "Person.hello()\n"
   ]
  },
  {
   "cell_type": "code",
   "execution_count": null,
   "metadata": {},
   "outputs": [],
   "source": [
    "# Encapsulation: hamara pas information ek jaga hoty hai us p jo function apply hu rahe hoty hain wo ek jaga hoty hain isy hum encapsulation kehty hain\n",
    "# Abstraction: user se complexity ko hide krna\n",
    "# sort function python ma back p tim sort p km krta hai\n",
    "# name convention: 1. \"_name\"(unnderskod) ye use hoa hai private name k lye k dosry doveloper ko dekhy to us ko pata chal jai k mujhe is vairable k sath kuxh cher char nhi krne\n",
    "# 2. \"__name__\" (dunder/magic method)\n",
    "# name mangling: \"__name\" (this is not a convention)"
   ]
  },
  {
   "cell_type": "code",
   "execution_count": null,
   "metadata": {},
   "outputs": [],
   "source": [
    "# OOP : Property decorator\n",
    "class Phone:\n",
    "    def __init__(self, brand, model, price):\n",
    "        self.brand = brand\n",
    "        self.model = model\n",
    "        self._price = max(price, 0)\n",
    "       # if price > 0:    # ye hum ne islye kya taky humare value \"-\" ma na jai agar minius ma hu to wo 0 hu jai.\n",
    "        #    self._price = price\n",
    "        # else:\n",
    "       #     self._price = 0\n",
    "    \n",
    "    @property   # ye phele se hi define hai or ye property decorator hai\n",
    "    def complete_specification(self):   # ye islye banaya taky price jo updated ki hu wo update hu jai\n",
    "        return f\"{self.brand} {self.model} and price is {self._price}\"\n",
    "    \n",
    "    def make_call(self, phone_number):\n",
    "        print(f\"calling {phone_number}.....\")\n",
    "        \n",
    "    def full_name(self):\n",
    "        return f\"{self.brand} {self.model}\"\n",
    "    \n",
    "phone1 = Phone('amamzon', 's24', -10500)\n",
    "\n",
    "phone1._price = 8500    # update price\n",
    "print(phone1._price)\n",
    "print(phone1.complete_specification) # @property ki waja s is ko function ki trha begair call kr sakhty hain beshak ye function ha"
   ]
  },
  {
   "cell_type": "code",
   "execution_count": null,
   "metadata": {},
   "outputs": [],
   "source": [
    "# OOP : Setter decorator\n",
    "class Phone:\n",
    "    def __init__(self, brand, model, price):\n",
    "        self.brand = brand\n",
    "        self.model = model\n",
    "        self._price = max(price, 0)\n",
    "    \n",
    "    @property   # ye phele se hi define hai or ye property decorator hai\n",
    "    def complete_specification(self):   # ye islye banaya taky price jo updated ki hu wo update hu jai\n",
    "        return f\"{self.brand} {self.model} and price is {self._price}\"\n",
    "    \n",
    "    @property   # proerty k bd hum setter lagyn gyn warna error ayega\n",
    "    def price(self):\n",
    "        return self._price\n",
    "    \n",
    "    @price.setter   # setter property\n",
    "    def price(self, new_price):\n",
    "        self._price = max(new_price, 0)\n",
    "    \n",
    "    def make_call(self, phone_number):\n",
    "        print(f\"calling {phone_number}.....\")\n",
    "        \n",
    "    def full_name(self):\n",
    "        return f\"{self.brand} {self.model}\"\n",
    "    \n",
    "phone1 = Phone('amamzon', 's24', -10500)\n",
    "\n",
    "phone1.price = -8500    # update price\n",
    "print(phone1.price)\n",
    "print(phone1.complete_specification) # @property ki waja s is ko function ki trha begair call kr sakhty hain beshak ye function ha"
   ]
  },
  {
   "cell_type": "code",
   "execution_count": null,
   "metadata": {},
   "outputs": [],
   "source": [
    "# Inheritance\n",
    "class Phone:   # based class/ parent class\n",
    "    def __init__(self, brand, model, price):\n",
    "        self.brand = brand\n",
    "        self.model = model\n",
    "        self._price = max(price, 0)\n",
    "        \n",
    "    def full_name(self):\n",
    "        return f\"{self.brand} {self.model}\"\n",
    "    \n",
    "class Smartphone(Phone): # derived / child class\n",
    "    def __init__(self, brand, model, price, ram, internal_memory, camera):\n",
    "        # Two way\n",
    "       # Phone.__init__(self, brand, model, price)   # uncommon way\n",
    "        super().__init__(brand, model, price)\n",
    "        self.ram = ram\n",
    "        self.internal_memory = internal_memory\n",
    "        self.camera = camera\n",
    "        \n",
    "    \n",
    "phone = Phone('nokia', '150', 4800)\n",
    "smartphone = Smartphone('sumsung', 's8', 28000, '6gb', '64gb', '24Mp')\n",
    "print(phone.full_name())\n",
    "print(smartphone.full_name() + f\" and price is {smartphone._price}\")\n"
   ]
  },
  {
   "cell_type": "code",
   "execution_count": null,
   "metadata": {},
   "outputs": [],
   "source": [
    "# Multilevel Inheritance, Method Resolution Order(MRO), Method Overriding \n",
    "class Phone:\n",
    "    def __init__(self, brand, model, price):\n",
    "        self.brand = brand\n",
    "        self.model = model\n",
    "        self._price = max(price, 0)\n",
    "        \n",
    "    def full_name(self):\n",
    "        return f\"{self.brand} {self.model}\"\n",
    "    \n",
    "class Smartphone(Phone):\n",
    "    def __init__(self, brand, model, price, ram, internal_memory, camera):\n",
    "        super().__init__(brand, model, price)\n",
    "        self.ram = ram\n",
    "        self.internal_memory = internal_memory\n",
    "        self.camera = camera\n",
    "        \n",
    "    def full_name(self):  # Method Overriding\n",
    "        return f\"{self.brand} {self.model} and price is {self._price}\"\n",
    "        \n",
    "\n",
    "class Superphone(Smartphone):\n",
    "    def __init__(self, brand, model, price, ram, internal_memory, camera, front_cemera, finger_print):\n",
    "        super().__init__(brand, model, price, ram, internal_memory, camera)\n",
    "        self.front_cemera = front_cemera\n",
    "        self.finger_print = finger_print \n",
    "    \n",
    "phone = Phone('nokia', '150', 4800)\n",
    "smartphone = Smartphone('sumsung', 's8', 28000, '6gb', '64gb', '24Mp')\n",
    "superphone = Superphone('sumsung', 's10', 42000, '6gb', '64gb', '24Mp', '16Mp', 'finger print')\n",
    "print(phone.full_name())\n",
    "print(smartphone.full_name() + f\" and price is {smartphone._price}\")\n",
    "print(superphone.full_name())\n",
    "print(help(Superphone))  # method resolution order\n"
   ]
  },
  {
   "cell_type": "code",
   "execution_count": null,
   "metadata": {},
   "outputs": [],
   "source": [
    "# isinstance: ye is islye use krty hain k hum pata kr sakhty k koi object us class k ha ya nhi \n",
    "# isinstnce syntax: isinstacne(object_name, class_name)\n",
    "# issubclass : is ma check krty hain k ek class dosry class ki sub class hai ya nhi \n",
    "# issubclass syntax: issubclass(class inherit, class parent)\n",
    "class Phone:\n",
    "    def __init__(self, brand, model, price):\n",
    "        self.brand = brand\n",
    "        self.model = model\n",
    "        self._price = max(price, 0)\n",
    "        \n",
    "    def full_name(self):\n",
    "        return f\"{self.brand} {self.model}\"\n",
    "    \n",
    "class Smartphone(Phone):\n",
    "    def __init__(self, brand, model, price, ram, internal_memory, camera):\n",
    "        super().__init__(brand, model, price)\n",
    "        self.ram = ram\n",
    "        self.internal_memory = internal_memory\n",
    "        self.camera = camera\n",
    "        \n",
    "    def full_name(self):  # Method Overriding\n",
    "        return f\"{self.brand} {self.model} and price is {self._price}\"\n",
    "        \n",
    "\n",
    "class Superphone(Smartphone):\n",
    "    def __init__(self, brand, model, price, ram, internal_memory, camera, front_cemera, finger_print):\n",
    "        super().__init__(brand, model, price, ram, internal_memory, camera)\n",
    "        self.front_cemera = front_cemera\n",
    "        self.finger_print = finger_print \n",
    "    \n",
    "phone = Phone('nokia', '150', 4800)\n",
    "smartphone = Smartphone('sumsung', 's8', 28000, '6gb', '64gb', '24Mp')\n",
    "superphone = Superphone('sumsung', 's10', 42000, '6gb', '64gb', '24Mp', '16Mp', 'finger print')\n",
    "\n",
    "print(isinstance(smartphone, Smartphone))\n",
    "print(issubclass(Superphone, Smartphone))"
   ]
  },
  {
   "cell_type": "code",
   "execution_count": null,
   "metadata": {},
   "outputs": [],
   "source": [
    "# Multiple Inheritance\n",
    "class A:\n",
    "    def class_A_method(self):\n",
    "        return \"I am a class A method\"\n",
    "    \n",
    "    def hello(self):\n",
    "        return \"hello class A\"\n",
    "\n",
    "class B:\n",
    "    def class_B_method(self):\n",
    "        return \"I am a class B method\"\n",
    "    \n",
    "    def hello(self):\n",
    "        return \"hello class B\"\n",
    "\n",
    "class C(A,B): # (B,A) ye b kr sakhty hain\n",
    "    pass\n",
    "\n",
    "instance_c = C()\n",
    "print(instance_c.class_A_method())\n",
    "print(instance_c.hello())\n",
    "print(help(C))"
   ]
  },
  {
   "cell_type": "code",
   "execution_count": null,
   "metadata": {},
   "outputs": [],
   "source": [
    "# special magic method / dunder method: syntax \"__methodname__\"\n",
    "class Phone:\n",
    "    def __init__(self, brand, model, price):\n",
    "        self.brand = brand\n",
    "        self.model = model\n",
    "        self._price = max(price, 0)\n",
    "        \n",
    "    def full_name(self):\n",
    "        return f\"{self.brand} {self.model}\"\n",
    "    \n",
    "    def __str__(self): # dunder\n",
    "        return f\"{self.brand} {self.brand} and price is {self._price}\"\n",
    "    \n",
    "    def __repre__(self): # dunder\n",
    "        return f\"Phone('{self.brand}\\',\\'{self.model}\\', {self._price})\"\n",
    "    \n",
    "    def __len__(self): # dunder\n",
    "        return len(self.full_name())\n",
    "\n",
    "my_phone=Phone('nokia', '150', 4800)\n",
    "\n",
    "print(len(my_phone))\n",
    "print(str(my_phone))\n",
    "print(my_phone.__repre__())"
   ]
  },
  {
   "cell_type": "code",
   "execution_count": null,
   "metadata": {},
   "outputs": [],
   "source": [
    "# Method Overloading\n",
    "# polymorphism: kisi cheez ki ek s zada foam huna example mehtod overriding\n",
    "class Phone:\n",
    "    def __init__(self, brand, model, price):\n",
    "        self.brand = brand\n",
    "        self.model = model\n",
    "        self._price = max(price, 0)\n",
    "        \n",
    "    def full_name(self):\n",
    "        return f\"{self.brand} {self.model}\"\n",
    "    \n",
    "    def __add__(self, other): # sub, mul(multiply) etc\n",
    "        return self._price + other._price # \"-\", \"*\" etc\n",
    "\n",
    "phone1 = Phone('nokia', '150', 4800)\n",
    "phone2 = Phone('sumsung', 's8', 28000)\n",
    "\n",
    "print(phone1 + phone2) # \"-\", \"*\" etc"
   ]
  },
  {
   "cell_type": "code",
   "execution_count": null,
   "metadata": {},
   "outputs": [],
   "source": [
    "# OOP complete"
   ]
  },
  {
   "cell_type": "code",
   "execution_count": null,
   "metadata": {},
   "outputs": [],
   "source": [
    "# Try , Except : exception handling : wo error jo hamare executing k time p ai\n",
    "while True:\n",
    "    try:\n",
    "        age = int(input(\"Enter your age : \"))\n",
    "        break\n",
    "    except ValueError:\n",
    "        print(\"you may be entered sting instead, try gain\")\n",
    "    except:\n",
    "        print(\"unexpected value..\")\n",
    "\n",
    "if age>18:\n",
    "    print(\"you can\\'t play game..\")\n",
    "else:\n",
    "    print(\"you can play game\")"
   ]
  },
  {
   "cell_type": "code",
   "execution_count": null,
   "metadata": {},
   "outputs": [],
   "source": [
    "# Try , Except with else , finally\n",
    "while True:\n",
    "    try:\n",
    "        age = int(input(\"Enter your age : \"))\n",
    "        \n",
    "    except ValueError:\n",
    "        print(\"you may be entered sting instead, try gain\")\n",
    "    \n",
    "    except:\n",
    "        print(\"unexpected value..\")\n",
    "    \n",
    "    else:       # try chaly ga tow else chaly ga or else islye banaty hain k ty ma readability km hu jai\n",
    "        print(f\"user input = {age}\")\n",
    "        break\n",
    "    \n",
    "    finally:   # error ai ya na ai finally hamesha chalta hai\n",
    "        print(\"finally Block...\")\n",
    "\n",
    "if age>18:\n",
    "    print(\"you can\\'t play game..\")\n",
    "else:\n",
    "    print(\"you can play game\")"
   ]
  },
  {
   "cell_type": "code",
   "execution_count": null,
   "metadata": {},
   "outputs": [],
   "source": [
    "# Excersice\n",
    "def divide(a,b):\n",
    "    try:\n",
    "        return a/b\n",
    "    except ZeroDivisionError:\n",
    "        print(\"please don\\'t divide with zero\")\n",
    "    except:\n",
    "        print(\"please only input integers\")\n",
    "\n",
    "print(divide(4,2))\n",
    "divide(4,0)\n",
    "divide('4',2)"
   ]
  },
  {
   "cell_type": "code",
   "execution_count": null,
   "metadata": {},
   "outputs": [],
   "source": [
    "# Custom exceptions\n",
    "# why: answer is to increase the readability of code\n",
    "\n",
    "class NameTooShortError(TypeError):\n",
    "    pass\n",
    "\n",
    "def validate(name):\n",
    "    if len(name) < 8:\n",
    "        raise NameTooShortError(\"name is to short\")\n",
    "\n",
    "username = input(\"enter your name : \")\n",
    "validate(username)\n",
    "print(f\"Hello {username}\")"
   ]
  },
  {
   "cell_type": "code",
   "execution_count": null,
   "metadata": {},
   "outputs": [],
   "source": [
    "# Debugger: error ko find karna or unko fix krna\n",
    "# module: pyhton files conatins usefull class and function \n",
    "# syntax import module_name\n",
    "\n",
    "import pdb\n",
    "# l:line, n:nextline, c:continue\n",
    "pdb.set_trace() # jaha p use krna hu us line ma likhyn jaha apko lagat ha k error ai ge\n",
    "name = input(\"enter your name : \")\n",
    "age = int(input(\"enter your age : \"))\n",
    "print(f\"hello {name} your age is {age}\")\n",
    "age2 = age + 5\n",
    "print(f\"hello {name} your age five year {age2}\")\n"
   ]
  },
  {
   "cell_type": "code",
   "execution_count": null,
   "metadata": {},
   "outputs": [],
   "source": [
    "# Read Text Files\n",
    "f = open(r\"C:\\Users\\M.Bytes\\Documents\\file.txt\")   # open function \n",
    "print(f.read())\n",
    "print(f\"cursor position - {f.tell()}\")    # tell method : cursor ki position batata hai\n",
    "print(\"before seek\")\n",
    "f.seek(0)     # seek method : cursor ko set krta hai\n",
    "print(\"after seek\")\n",
    "print(f.read())   # read method\n",
    "print(f\"cursor position - {f.tell()}\")\n",
    "print(f.read())\n",
    "f.close()      # close function"
   ]
  },
  {
   "cell_type": "code",
   "execution_count": null,
   "metadata": {},
   "outputs": [],
   "source": [
    "f = open(r\"C:\\Users\\M.Bytes\\Documents\\file.txt\")\n",
    "print(f.readline(), end = '')    # readline method\n",
    "print(f.readline(), end = '')\n",
    "print(f.readline())\n",
    "f.close()"
   ]
  },
  {
   "cell_type": "code",
   "execution_count": null,
   "metadata": {},
   "outputs": [],
   "source": [
    "f = open(r\"C:\\Users\\M.Bytes\\Documents\\file.txt\")\n",
    "lines = f.readlines()    # readlines method\n",
    "print(len(lines))\n",
    "for line in lines:\n",
    "    print(line, end = '')\n",
    "f.close()"
   ]
  },
  {
   "cell_type": "code",
   "execution_count": null,
   "metadata": {},
   "outputs": [],
   "source": [
    "f = open(r\"C:\\Users\\M.Bytes\\Documents\\file.txt\")\n",
    "for line in f:\n",
    "    print(line, end = '')\n",
    "f.close()"
   ]
  },
  {
   "cell_type": "code",
   "execution_count": 1,
   "metadata": {},
   "outputs": [
    {
     "name": "stdout",
     "output_type": "stream",
     "text": [
      "what are you doinghellolast line\n",
      "True\n"
     ]
    }
   ],
   "source": [
    "# with block: jis ko hum context manager kehty hain\n",
    "with open(r\"C:\\Users\\M.Bytes\\Documents\\file.txt\") as f: # is k faida ye hai k hum is ma closed nhi krty\n",
    "    file = f.read()\n",
    "    print(file)\n",
    "print(f.closed)   # ye khud closed krdyta hai islye ye Ture aya"
   ]
  },
  {
   "cell_type": "raw",
   "metadata": {},
   "source": [
    "# Write to file\n",
    "# r, w, a, r+ , w+\n",
    "# r : read krta ha\n",
    "# w : w se ap ki file delet hu jai ge or phr jo wirte kro gy wo ai ga\n",
    "# a : a meanss append is ma agy he ussi file ma kuxh likhna hu tb use hu ga ye file ko delet nhui krta\n",
    "# r+ : read b krta ha or write b\n",
    "# w+ : is ma agar file nhi hu ge tow khud generate kry ga or same r+ jese km kry ga"
   ]
  },
  {
   "cell_type": "code",
   "execution_count": 2,
   "metadata": {},
   "outputs": [],
   "source": [
    "with open(\"data file.txt\", \"w\") as file:\n",
    "    file.write(\"hello data file\")"
   ]
  },
  {
   "cell_type": "code",
   "execution_count": 4,
   "metadata": {},
   "outputs": [],
   "source": [
    "with open(\"data file.txt\", \"a\") as file:\n",
    "    file.write(\"i am a text of append\")"
   ]
  },
  {
   "cell_type": "code",
   "execution_count": 6,
   "metadata": {},
   "outputs": [
    {
     "name": "stdout",
     "output_type": "stream",
     "text": [
      "Hello dear python text file\n"
     ]
    }
   ],
   "source": [
    "with open(\"my new file.txt\", \"w+\") as file:\n",
    "    file.write(\"Hello dear python text file\")\n",
    "    file.seek(0)\n",
    "    print(file.read())"
   ]
  },
  {
   "cell_type": "code",
   "execution_count": 7,
   "metadata": {},
   "outputs": [
    {
     "name": "stdout",
     "output_type": "stream",
     "text": [
      "Hello dear python text fileHello dear python text fileHello dear python text fileHello dear python text file\n"
     ]
    }
   ],
   "source": [
    "with open(\"my new file.txt\", \"r+\") as file:\n",
    "    file.write(\"Hello dear python text file\")\n",
    "    file.write(\"Hello dear python text file\")\n",
    "    file.write(\"Hello dear python text file\")\n",
    "    file.write(\"Hello dear python text file\")\n",
    "    file.seek(0)\n",
    "    print(file.read())"
   ]
  },
  {
   "cell_type": "markdown",
   "metadata": {},
   "source": [
    "# modules"
   ]
  },
  {
   "cell_type": "code",
   "execution_count": 9,
   "metadata": {},
   "outputs": [],
   "source": [
    "# %load maths.py\n",
    "def add(a,b):\n",
    "    return a+b\n",
    "\n",
    "def sub(a,b):\n",
    "    return a-b\n",
    "\n",
    "def mul(a,b):\n",
    "    return a*b"
   ]
  },
  {
   "cell_type": "code",
   "execution_count": 10,
   "metadata": {},
   "outputs": [],
   "source": [
    "import maths as m"
   ]
  },
  {
   "cell_type": "code",
   "execution_count": 11,
   "metadata": {},
   "outputs": [
    {
     "data": {
      "text/plain": [
       "5"
      ]
     },
     "execution_count": 11,
     "metadata": {},
     "output_type": "execute_result"
    }
   ],
   "source": [
    "m.add(2,3)"
   ]
  },
  {
   "cell_type": "code",
   "execution_count": 12,
   "metadata": {},
   "outputs": [
    {
     "data": {
      "text/plain": [
       "3"
      ]
     },
     "execution_count": 12,
     "metadata": {},
     "output_type": "execute_result"
    }
   ],
   "source": [
    "m.sub(5,2)"
   ]
  },
  {
   "cell_type": "code",
   "execution_count": 14,
   "metadata": {},
   "outputs": [
    {
     "data": {
      "text/plain": [
       "8"
      ]
     },
     "execution_count": 14,
     "metadata": {},
     "output_type": "execute_result"
    }
   ],
   "source": [
    "m.mul(2,4)"
   ]
  },
  {
   "cell_type": "markdown",
   "metadata": {},
   "source": [
    "# CSV file (comma seperated values)"
   ]
  },
  {
   "cell_type": "code",
   "execution_count": null,
   "metadata": {},
   "outputs": [],
   "source": []
  }
 ],
 "metadata": {
  "kernelspec": {
   "display_name": "Python 3",
   "language": "python",
   "name": "python3"
  },
  "language_info": {
   "codemirror_mode": {
    "name": "ipython",
    "version": 3
   },
   "file_extension": ".py",
   "mimetype": "text/x-python",
   "name": "python",
   "nbconvert_exporter": "python",
   "pygments_lexer": "ipython3",
   "version": "3.7.0"
  }
 },
 "nbformat": 4,
 "nbformat_minor": 2
}
